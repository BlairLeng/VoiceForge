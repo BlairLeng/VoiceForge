{
  "nbformat": 4,
  "nbformat_minor": 0,
  "metadata": {
    "colab": {
      "provenance": [],
      "gpuType": "T4"
    },
    "kernelspec": {
      "name": "python3",
      "display_name": "Python 3"
    },
    "language_info": {
      "name": "python"
    },
    "accelerator": "GPU"
  },
  "cells": [
    {
      "cell_type": "code",
      "source": [
        "import os\n",
        "import numpy as np\n",
        "import torch\n",
        "import pickle\n",
        "import requests"
      ],
      "metadata": {
        "id": "dSppXb0MPrh5"
      },
      "execution_count": 1,
      "outputs": []
    },
    {
      "cell_type": "code",
      "source": [
        "!git clone https://github.com/BlairLeng/VoiceForge.git"
      ],
      "metadata": {
        "colab": {
          "base_uri": "https://localhost:8080/"
        },
        "id": "bnsAftQNTc6V",
        "outputId": "51a4a093-23ff-4095-ecf1-7f35b50bf5f4"
      },
      "execution_count": 2,
      "outputs": [
        {
          "output_type": "stream",
          "name": "stdout",
          "text": [
            "Cloning into 'VoiceForge'...\n",
            "remote: Enumerating objects: 37, done.\u001b[K\n",
            "remote: Counting objects: 100% (37/37), done.\u001b[K\n",
            "remote: Compressing objects: 100% (31/31), done.\u001b[K\n",
            "remote: Total 37 (delta 3), reused 33 (delta 3), pack-reused 0\u001b[K\n",
            "Receiving objects: 100% (37/37), 324.89 KiB | 12.50 MiB/s, done.\n",
            "Resolving deltas: 100% (3/3), done.\n"
          ]
        }
      ]
    },
    {
      "cell_type": "code",
      "source": [
        "from google.colab import drive\n",
        "drive.mount('/content/drive')"
      ],
      "metadata": {
        "colab": {
          "base_uri": "https://localhost:8080/"
        },
        "id": "WLgPcdYBXcYU",
        "outputId": "4ed111af-d112-4676-d47e-ac8ef860f72f"
      },
      "execution_count": 5,
      "outputs": [
        {
          "output_type": "stream",
          "name": "stdout",
          "text": [
            "Mounted at /content/drive\n"
          ]
        }
      ]
    },
    {
      "cell_type": "code",
      "source": [
        "import os\n",
        "import numpy as np\n",
        "import torch\n",
        "import pickle\n",
        "\n",
        "\n",
        "import requests\n",
        "from VoiceForge.audio_feature_ext.modules.ecapa_tdnn import EcapaTdnn, SpeakerIdetification\n",
        "from VoiceForge.audio_feature_ext.data_utils.reader import load_audio, CustomDataset\n",
        "\n",
        "class AudioFeatureExtraction:\n",
        "    def __init__(self,model_director='./audio_feature_ext/models', feature_method='melspectrogram' ):\n",
        "        self.use_model = ''\n",
        "        self.model_director = model_director\n",
        "        self.feature_method = feature_method\n",
        "        self.model = None\n",
        "        self.device = None\n",
        "        self.load_model()\n",
        "\n",
        "    def init_models(self,path):\n",
        "        model_urls = ['https://huggingface.co/scixing/voicemodel/resolve/main/model.pth',\n",
        "                      'https://huggingface.co/scixing/voicemodel/resolve/main/model.state',\n",
        "                      'https://huggingface.co/scixing/voicemodel/resolve/main/optimizer.pth']\n",
        "        listdir = os.listdir(path)\n",
        "        for url in model_urls:\n",
        "            filename = url.split('/')[-1]\n",
        "            if filename in listdir:\n",
        "                continue\n",
        "            r = requests.get(url, allow_redirects=True)\n",
        "            print(f'downloading model pth {filename}')\n",
        "            open(f'{path}/{filename}', 'wb').write(r.content)\n",
        "            print(f'{filename} success download')\n",
        "\n",
        "    def load_model(self):\n",
        "        dataset = CustomDataset(data_list_path=None, feature_method=self.feature_method)\n",
        "        ecapa_tdnn = EcapaTdnn(input_size=dataset.input_size)\n",
        "        self.model = SpeakerIdetification(backbone=ecapa_tdnn)\n",
        "        self.device = torch.device(\"cuda\")\n",
        "        self.model.to(self.device)\n",
        "\n",
        "        if not os.path.exists(self.model_director):\n",
        "            os.makedirs(self.model_director)\n",
        "        model_files = ['model.pth', 'model.state', 'optimizer.pth']\n",
        "        for file in model_files:\n",
        "            if not os.path.exists(f'{self.model_director}/{file}'):\n",
        "                self.init_models(self.model_director)\n",
        "\n",
        "        # 加载模型\n",
        "        model_path = os.path.join(self.model_director, 'model.pth')\n",
        "        model_dict = self.model.state_dict()\n",
        "        param_state_dict = torch.load(model_path)\n",
        "        for name, weight in model_dict.items():\n",
        "            if name in param_state_dict.keys():\n",
        "                if list(weight.shape) != list(param_state_dict[name].shape):\n",
        "                    param_state_dict.pop(name, None)\n",
        "        self.model.load_state_dict(param_state_dict, strict=False)\n",
        "        print(f\"成功加载模型参数和优化方法参数：{model_path}\")\n",
        "        self.model.eval()\n",
        "\n",
        "    def infer(self, audio_path, duration):\n",
        "        data = load_audio(audio_path, mode='infer', feature_method=self.feature_method,\n",
        "                          chunk_duration=duration)\n",
        "        data = data[np.newaxis, :]\n",
        "        data = torch.tensor(data, dtype=torch.float32, device=self.device)\n",
        "        feature = self.model.backbone(data)\n",
        "        return feature.data.cpu().numpy()"
      ],
      "metadata": {
        "id": "a8ZpR6PETx5P"
      },
      "execution_count": 6,
      "outputs": []
    },
    {
      "cell_type": "code",
      "source": [
        "AFE = AudioFeatureExtraction()"
      ],
      "metadata": {
        "colab": {
          "base_uri": "https://localhost:8080/"
        },
        "id": "xhA8klnUVSyl",
        "outputId": "824ba0d1-6c17-4ab0-c448-0c073dad1f7a"
      },
      "execution_count": 8,
      "outputs": [
        {
          "output_type": "stream",
          "name": "stdout",
          "text": [
            "成功加载模型参数和优化方法参数：./audio_feature_ext/models/model.pth\n"
          ]
        }
      ]
    },
    {
      "cell_type": "code",
      "source": [
        "import wave\n",
        "import contextlib"
      ],
      "metadata": {
        "id": "6r_TcxLxV1ky"
      },
      "execution_count": 10,
      "outputs": []
    },
    {
      "cell_type": "code",
      "source": [
        "file_path = \"/content/drive/MyDrive/GPTData/Haruhi_audio/01/312)}{\\k20}凉{\\k20}宫{\\k20}春{\\k20}日{\\k20}团00:23:07.070000.wav\"\n",
        "\n",
        "with contextlib.closing(wave.open(file_path, 'rb')) as f:\n",
        "    frames = f.getnframes()\n",
        "    rate = f.getframerate()\n",
        "    duration = frames / float(rate)\n",
        "\n",
        "AFE.infer(file_path, duration)[0]"
      ],
      "metadata": {
        "colab": {
          "base_uri": "https://localhost:8080/"
        },
        "id": "MRp6lOIgYoLb",
        "outputId": "44c8c34e-4b50-43d2-b431-c2dde92ac6ba"
      },
      "execution_count": 14,
      "outputs": [
        {
          "output_type": "execute_result",
          "data": {
            "text/plain": [
              "array([-0.25482637, -0.08357781, -0.07106941, -0.26909938,  0.18829505,\n",
              "        0.26165918,  0.4537298 ,  0.73450327, -0.35488844,  0.11526221,\n",
              "       -0.00976957, -0.14743726, -0.15223378,  0.36701366, -0.43090054,\n",
              "       -0.34027702,  0.700111  ,  0.20501454,  0.23966783,  0.10887624,\n",
              "        0.6455976 ,  0.19876142, -0.21320389, -0.5663119 , -0.14633986,\n",
              "        0.14458369,  0.09441376, -0.14459994,  0.19150178,  0.18343854,\n",
              "       -0.02837923, -0.325045  , -0.13683006,  0.04951802, -0.04076549,\n",
              "       -0.20020688, -0.12568444, -0.20528723,  0.25369284, -0.23654728,\n",
              "        0.08003059,  0.6285238 ,  0.06177036,  0.38667247, -0.21959871,\n",
              "       -0.45782745,  0.25508097, -0.31731164,  0.5698923 , -0.26788864,\n",
              "        0.6064223 ,  0.09479906,  0.33312544,  0.29221392,  0.17239876,\n",
              "       -0.24952959,  0.21743146,  0.4922386 ,  0.26232612, -0.17286031,\n",
              "        0.45107996, -0.18003249,  0.37111294, -0.32601923, -0.30233046,\n",
              "       -0.3790557 , -0.19180658,  0.2996932 , -0.05059752, -0.7314365 ,\n",
              "       -0.30703712,  0.44666383, -0.27566552,  0.290725  , -0.40809426,\n",
              "       -0.2842588 ,  0.3126764 , -0.3610699 ,  0.11983814,  0.27413666,\n",
              "       -0.33737612,  0.72601515, -0.49039072, -0.42215157, -0.1599276 ,\n",
              "       -0.233117  ,  0.21761565,  0.6706604 , -0.32671845, -0.30163446,\n",
              "        0.18126924,  0.21258819,  0.14067452, -0.41582775,  0.02517794,\n",
              "       -0.19031276,  0.26901975,  0.09162125,  0.2641764 ,  0.5551343 ,\n",
              "       -0.7411324 , -0.08234467,  0.555841  , -0.1693884 ,  0.14656226,\n",
              "       -0.11236886, -0.16914831,  0.58777314, -0.60787565,  0.10579639,\n",
              "       -0.33886263,  0.27245155,  0.822881  ,  0.03717957, -0.5270177 ,\n",
              "        0.02694885, -0.03318198,  0.06246106,  0.41014552, -0.86287546,\n",
              "       -0.31569156, -0.11013142, -0.51832056, -0.13277817,  0.023949  ,\n",
              "        0.7651304 ,  0.13629982, -0.46825418, -0.36449167,  0.35287452,\n",
              "       -0.18513842,  0.6360787 ,  0.10042617, -0.46635804, -0.4255479 ,\n",
              "       -0.23132578, -0.14948453, -0.23144805, -0.2882596 ,  0.35268813,\n",
              "        0.36097553,  0.0096078 ,  0.1827756 ,  0.25971848, -0.06263607,\n",
              "        0.04616674,  0.30333441,  0.5593293 , -0.17321734,  0.6978867 ,\n",
              "        0.14456491,  0.23083162, -0.17850305,  0.31389612,  0.08182493,\n",
              "        0.4876859 , -0.00623779, -0.25616178, -0.01703771,  0.4643505 ,\n",
              "       -0.08785012,  0.347229  ,  0.24719071, -0.35805562, -0.3298536 ,\n",
              "       -0.0245204 ,  0.27744722, -0.11298561,  0.2625849 ,  0.57614845,\n",
              "        0.01419187, -0.43052512, -0.41001838, -0.06535877,  0.40747795,\n",
              "       -0.2602196 ,  0.4898571 ,  0.32754415, -0.16180679,  0.09968624,\n",
              "       -0.21803376, -0.46517146, -0.47119677, -0.6002925 ,  0.35505477,\n",
              "       -0.10887102,  0.13132834,  0.43059477, -0.03766505,  0.07388458,\n",
              "       -0.32698354,  0.07574745], dtype=float32)"
            ]
          },
          "metadata": {},
          "execution_count": 14
        }
      ]
    },
    {
      "cell_type": "code",
      "source": [],
      "metadata": {
        "id": "nr2tgqRGY7SR"
      },
      "execution_count": null,
      "outputs": []
    }
  ]
}