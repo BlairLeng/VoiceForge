{
  "nbformat": 4,
  "nbformat_minor": 0,
  "metadata": {
    "colab": {
      "provenance": [],
      "gpuType": "T4"
    },
    "kernelspec": {
      "name": "python3",
      "display_name": "Python 3"
    },
    "language_info": {
      "name": "python"
    },
    "accelerator": "GPU"
  },
  "cells": [
    {
      "cell_type": "code",
      "source": [
        "import os\n",
        "# mount google drive\n",
        "from google.colab import drive\n",
        "drive.mount('/content/drive')"
      ],
      "metadata": {
        "colab": {
          "base_uri": "https://localhost:8080/"
        },
        "id": "X2ym87Q4PRrK",
        "outputId": "7a9c7f54-ab5a-4b48-fc60-2af0ec5f21c8"
      },
      "execution_count": 2,
      "outputs": [
        {
          "output_type": "stream",
          "name": "stdout",
          "text": [
            "Mounted at /content/drive\n"
          ]
        }
      ]
    },
    {
      "cell_type": "code",
      "execution_count": 13,
      "metadata": {
        "id": "M4DsdgI57ezY"
      },
      "outputs": [],
      "source": [
        "from datetime import datetime, timedelta\n",
        "def get_start_end(time_1, time_2):\n",
        "    # 将时间字符串转换为时间间隔\n",
        "    format_string = '%H:%M:%S.%f'\n",
        "    time1_obj = datetime.strptime(time_1, format_string)\n",
        "    time2_obj = datetime.strptime(time_2, format_string)\n",
        "\n",
        "    # 计算时间间隔的总和\n",
        "    # total_time = time1_obj - datetime.min + (time2_obj - datetime.min)\n",
        "\n",
        "    # 计算平均时间间隔\n",
        "    # average_time = total_time / 2\n",
        "\n",
        "    # 将平均时间间隔格式化为相同的时间字符串格式\n",
        "    # average_time_str = (datetime.min + average_time).time().strftime(format_string)\n",
        "    return time1_obj, time2_obj"
      ]
    },
    {
      "cell_type": "code",
      "source": [
        "def get_duration_time(time_1, time_2):\n",
        "    # 将时间字符串转换为时间间隔\n",
        "    format_string = '%H:%M:%S.%f'\n",
        "\n",
        "    # 计算时间间隔的总和\n",
        "    total_time = time_2 - time_1\n",
        "\n",
        "    # 将平均时间间隔格式化为相同的时间字符串格式\n",
        "    average_time_str = (datetime.min + total_time).time().strftime(format_string)\n",
        "    return average_time_str"
      ],
      "metadata": {
        "id": "-X5GBjGFziiV"
      },
      "execution_count": 21,
      "outputs": []
    },
    {
      "cell_type": "code",
      "source": [
        "def getTimeAndText(ass_path):\n",
        "    with open(ass_path, 'r', encoding='utf-16') as file:\n",
        "        lines = file.readlines()\n",
        "    keyword = \"zhengwen\"\n",
        "    duration_time_list = []\n",
        "    text_list = []\n",
        "    start_time_list = []\n",
        "    end_time_list = []\n",
        "    for line in lines:\n",
        "        if line.startswith('Dialogue') and keyword in line:\n",
        "            content = line.split(\":\", 1)[1].strip()\n",
        "            line_list = content.split(\",\")\n",
        "            start_time, end_time = get_start_end(line_list[1], line_list[2])\n",
        "            start_time_list.append(start_time.strftime('%H:%M:%S.%f'))\n",
        "            end_time_list.append(end_time.strftime('%H:%M:%S.%f'))\n",
        "            duration_time = get_duration_time(start_time, end_time)\n",
        "            duration_time_list.append(duration_time)\n",
        "            text_list.append(line_list[-1])\n",
        "    return duration_time_list, text_list, start_time_list, end_time_list"
      ],
      "metadata": {
        "id": "mC72D33B0NHd"
      },
      "execution_count": 22,
      "outputs": []
    },
    {
      "cell_type": "code",
      "source": [
        "import json\n",
        "import subprocess\n",
        "\n",
        "def extract_audio_at_time(video_path, output_path, time_stamp, duration_time):\n",
        "    ffmpeg_cmd = [\n",
        "        'ffmpeg',\n",
        "        '-ss', time_stamp,\n",
        "        '-i', video_path,\n",
        "        \"-t\", duration_time,\n",
        "        \"-q:a\", \"0\",\n",
        "        output_path\n",
        "    ]\n",
        "\n",
        "    subprocess.run(ffmpeg_cmd, stdout=subprocess.PIPE, stderr=subprocess.PIPE)\n",
        "\n",
        "# for id in [str(x).zfill(2) for x in range(15, 29)]:\n",
        "\n",
        "for k in range(1,29):\n",
        "    save_path = f\"/content/drive/MyDrive/GPTData/Haruhi_audio/{k:0=2d}/\"\n",
        "    if not os.path.exists(save_path):\n",
        "        os.mkdir(save_path)\n",
        "    data = []\n",
        "    ass_path = f\"[CASO][Suzumiya_Haruhi_no_Yuuutsu][{k:0=2d}]\"\n",
        "    video_path = f\"[CASO][Suzumiya_Haruhi_no_Yuuutsu][{k:0=2d}]\"\n",
        "\n",
        "    directory = \"/content/drive/MyDrive/GPTData/Haruhi_all\"\n",
        "    for filename in os.listdir(directory):\n",
        "        if filename.endswith(\"ass\") and filename.startswith(ass_path):\n",
        "            ass_path = filename\n",
        "        if filename.endswith(\"mkv\") and filename.startswith(video_path):\n",
        "            video_path = filename\n",
        "\n",
        "    ass_path = os.path.join(directory, ass_path)\n",
        "    video_path = os.path.join(directory, video_path)\n",
        "\n",
        "    duration_time_list, text_list, start_time_list, end_time_list = getTimeAndText(ass_path)\n",
        "    # print(duration_time_list)\n",
        "    # print(start_time_list)\n",
        "    # print(end_time_list)\n",
        "    for i in range(len(start_time_list)):\n",
        "        time_stamp = start_time_list[i]\n",
        "        duration_time = duration_time_list[i]\n",
        "        output_path = save_path + f'{text_list[i]}{start_time_list[i]}.wav'\n",
        "        extract_audio_at_time(video_path, output_path, time_stamp, duration_time)\n",
        "        data.append({\"text\":str(text_list[i]), \"timestamp\":str(time_stamp), \"path\":f\"{text_list[i]}{time_stamp}.wav\"})\n",
        "\n",
        "    with open(f'{save_path}/info_{k:0=2d}.json', 'w', encoding='utf-8') as f:\n",
        "        json.dump(data, f, ensure_ascii=False, indent=4)"
      ],
      "metadata": {
        "id": "xeCLyistPQRQ"
      },
      "execution_count": null,
      "outputs": []
    },
    {
      "cell_type": "code",
      "source": [],
      "metadata": {
        "id": "AMKsH1DW-Oqr"
      },
      "execution_count": null,
      "outputs": []
    },
    {
      "cell_type": "code",
      "source": [],
      "metadata": {
        "id": "vzbyB_RgHg3c"
      },
      "execution_count": null,
      "outputs": []
    }
  ]
}