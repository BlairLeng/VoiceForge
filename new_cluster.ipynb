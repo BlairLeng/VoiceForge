{
  "nbformat": 4,
  "nbformat_minor": 0,
  "metadata": {
    "colab": {
      "provenance": [],
      "gpuType": "T4"
    },
    "kernelspec": {
      "name": "python3",
      "display_name": "Python 3"
    },
    "language_info": {
      "name": "python"
    },
    "accelerator": "GPU"
  },
  "cells": [
    {
      "cell_type": "code",
      "execution_count": 1,
      "metadata": {
        "id": "AzQBzce8udN6"
      },
      "outputs": [],
      "source": [
        "import json\n",
        "from torch.utils.data import Dataset, DataLoader\n",
        "import torch\n",
        "import torch.nn.functional as F"
      ]
    },
    {
      "cell_type": "code",
      "source": [
        "class CustomDataset(Dataset):\n",
        "    def __init__(self, file_path):\n",
        "        self.data = []\n",
        "        with open(file_path, 'r', encoding='utf-8') as file:\n",
        "            for line in file:\n",
        "                # 假设每行都是一个JSON对象\n",
        "                item = json.loads(line)\n",
        "                self.data.append(item)\n",
        "\n",
        "    def __len__(self):\n",
        "        return len(self.data)\n",
        "\n",
        "    def __getitem__(self, idx):\n",
        "        sample = self.data[idx]\n",
        "        # 返回单个数据项，根据需要进行预处理\n",
        "        role = sample[\"role\"]\n",
        "        text = sample[\"text\"]\n",
        "        audio_feature = sample[\"audio_feature\"]\n",
        "        position_feature = sample[\"position\"]\n",
        "        return {\n",
        "            \"role\": role,\n",
        "            \"text\": text,\n",
        "            \"audio_feature\": torch.tensor(audio_feature),\n",
        "            \"position_feature\": position_feature\n",
        "        }"
      ],
      "metadata": {
        "id": "nm_8QfVsw710"
      },
      "execution_count": 2,
      "outputs": []
    },
    {
      "cell_type": "code",
      "source": [
        "dataset = CustomDataset('/content/feature.jsonl')"
      ],
      "metadata": {
        "id": "cUR7YqaaxANP"
      },
      "execution_count": 3,
      "outputs": []
    },
    {
      "cell_type": "code",
      "source": [
        "from torch.utils.data import DataLoader, random_split\n",
        "\n",
        "# 定义数据集大小\n",
        "dataset_size = len(dataset)\n",
        "print(dataset_size)\n",
        "\n",
        "# 定义训练集、验证集和测试集的大小比例（例如，60%训练，20%验证，20%测试）\n",
        "train_size = int(0.85 * dataset_size)\n",
        "test_size = int(0.1 * dataset_size)\n",
        "val_size = dataset_size - train_size - test_size\n",
        "\n",
        "# 随机切分数据集为训练集和临时集（包括验证集和测试集）\n",
        "train_dataset, temp_dataset = random_split(dataset, [train_size, dataset_size - train_size])\n",
        "\n",
        "# 再次随机切分临时集为验证集和测试集\n",
        "val_dataset, test_dataset = random_split(temp_dataset, [val_size, test_size])\n",
        "\n",
        "# 创建训练集、验证集和测试集的 DataLoader\n",
        "batch_size = 64  # 设置每个批次的大小\n",
        "train_loader = DataLoader(train_dataset, batch_size=batch_size, shuffle=True)\n",
        "val_loader = DataLoader(val_dataset, batch_size=batch_size, shuffle=False)\n",
        "test_loader = DataLoader(test_dataset, batch_size=batch_size, shuffle=False)\n"
      ],
      "metadata": {
        "colab": {
          "base_uri": "https://localhost:8080/"
        },
        "id": "EMqxxPn2xCPx",
        "outputId": "224fa336-37ba-4f28-d606-576eb8764594"
      },
      "execution_count": 4,
      "outputs": [
        {
          "output_type": "stream",
          "name": "stdout",
          "text": [
            "1144\n"
          ]
        }
      ]
    },
    {
      "cell_type": "code",
      "source": [],
      "metadata": {
        "id": "w9u9OoWwxLaz"
      },
      "execution_count": null,
      "outputs": []
    }
  ]
}